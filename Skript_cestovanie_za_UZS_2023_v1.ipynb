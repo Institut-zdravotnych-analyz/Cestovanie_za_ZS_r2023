{
 "cells": [
  {
   "cell_type": "markdown",
   "metadata": {},
   "source": [
    "# Cestovanie za ustavnou zdravotnou starostlivostou v roku 2023"
   ]
  },
  {
   "cell_type": "markdown",
   "metadata": {},
   "source": [
    "## Imports"
   ]
  },
  {
   "cell_type": "code",
   "execution_count": 5,
   "metadata": {},
   "outputs": [],
   "source": [
    "import numpy as np\n",
    "import pandas as pd\n",
    "import matplotlib.pyplot as plt\n",
    "pd.set_option('display.max_columns', None)\n",
    "import json\n",
    "import re\n",
    "\n",
    "import seaborn as sns\n",
    "import os"
   ]
  },
  {
   "cell_type": "markdown",
   "metadata": {},
   "source": [
    "## Data imports"
   ]
  },
  {
   "cell_type": "markdown",
   "metadata": {},
   "source": [
    "v1: predbezne vysledky po errate, ulozene na SharePointe OSN. Este sa budu updatovat"
   ]
  },
  {
   "cell_type": "code",
   "execution_count": 8,
   "metadata": {},
   "outputs": [],
   "source": [
    "all_inpatients_file_path = r\"C:\\Users\\hunakj\\health.gov.sk\\IZA - Cestovanie za ZS\\2023\\Data inputs\\osn_vsetka_starostlivost_2023_ms_v2024.2.csv\""
   ]
  },
  {
   "cell_type": "code",
   "execution_count": 10,
   "metadata": {},
   "outputs": [],
   "source": [
    "all_inpatients = pd.read_csv(all_inpatients_file_path, dtype=str, delimiter=\";\")"
   ]
  },
  {
   "cell_type": "code",
   "execution_count": 11,
   "metadata": {},
   "outputs": [
    {
     "data": {
      "text/html": [
       "<div>\n",
       "<style scoped>\n",
       "    .dataframe tbody tr th:only-of-type {\n",
       "        vertical-align: middle;\n",
       "    }\n",
       "\n",
       "    .dataframe tbody tr th {\n",
       "        vertical-align: top;\n",
       "    }\n",
       "\n",
       "    .dataframe thead th {\n",
       "        text-align: right;\n",
       "    }\n",
       "</style>\n",
       "<table border=\"1\" class=\"dataframe\">\n",
       "  <thead>\n",
       "    <tr style=\"text-align: right;\">\n",
       "      <th></th>\n",
       "      <th>id_hp</th>\n",
       "      <th>vek_roky</th>\n",
       "      <th>vek_dni</th>\n",
       "      <th>hmotnost</th>\n",
       "      <th>upv</th>\n",
       "      <th>diagnozy</th>\n",
       "      <th>vykony</th>\n",
       "      <th>drg</th>\n",
       "      <th>erv</th>\n",
       "      <th>typ_starostlivosti</th>\n",
       "      <th>diagnozy_z_01</th>\n",
       "      <th>vykony_z_01</th>\n",
       "      <th>obdobie_od</th>\n",
       "      <th>obdobie_do</th>\n",
       "      <th>datum_od</th>\n",
       "      <th>datum_do</th>\n",
       "      <th>id_poistenca</th>\n",
       "      <th>datum_narodenia</th>\n",
       "      <th>kod_pobytu</th>\n",
       "      <th>kod_zp</th>\n",
       "      <th>pzs_12</th>\n",
       "      <th>IDENTIFZAR</th>\n",
       "      <th>pzs_8</th>\n",
       "      <th>pzs_6</th>\n",
       "      <th>id_hp_pzs</th>\n",
       "      <th>ms</th>\n",
       "    </tr>\n",
       "  </thead>\n",
       "  <tbody>\n",
       "    <tr>\n",
       "      <th>0</th>\n",
       "      <td>35380_23000079</td>\n",
       "      <td>20</td>\n",
       "      <td>NaN</td>\n",
       "      <td>NaN</td>\n",
       "      <td>NaN</td>\n",
       "      <td>j350</td>\n",
       "      <td>5g603&amp;B&amp;20230113</td>\n",
       "      <td>d30b</td>\n",
       "      <td>0.8431</td>\n",
       "      <td>DRG</td>\n",
       "      <td>j350</td>\n",
       "      <td>NaN</td>\n",
       "      <td>2023-01</td>\n",
       "      <td>2023-01</td>\n",
       "      <td>2023-01-12</td>\n",
       "      <td>2023-01-16</td>\n",
       "      <td>5130405</td>\n",
       "      <td>2002-04-25</td>\n",
       "      <td>522279</td>\n",
       "      <td>24</td>\n",
       "      <td>N61173014101</td>\n",
       "      <td>N6117301</td>\n",
       "      <td>N6117301</td>\n",
       "      <td>N61173</td>\n",
       "      <td>23000079</td>\n",
       "      <td>S05-34~S05-29</td>\n",
       "    </tr>\n",
       "    <tr>\n",
       "      <th>1</th>\n",
       "      <td>35380_23000214</td>\n",
       "      <td>19</td>\n",
       "      <td>NaN</td>\n",
       "      <td>NaN</td>\n",
       "      <td>NaN</td>\n",
       "      <td>j350</td>\n",
       "      <td>5g603&amp;B&amp;20230127</td>\n",
       "      <td>d30b</td>\n",
       "      <td>0.8431</td>\n",
       "      <td>DRG</td>\n",
       "      <td>j350</td>\n",
       "      <td>NaN</td>\n",
       "      <td>2023-01</td>\n",
       "      <td>2023-01</td>\n",
       "      <td>2023-01-26</td>\n",
       "      <td>2023-01-31</td>\n",
       "      <td>2778465</td>\n",
       "      <td>2003-08-23</td>\n",
       "      <td>527696</td>\n",
       "      <td>24</td>\n",
       "      <td>N61173014101</td>\n",
       "      <td>N6117301</td>\n",
       "      <td>N6117301</td>\n",
       "      <td>N61173</td>\n",
       "      <td>23000214</td>\n",
       "      <td>S05-34~S05-29</td>\n",
       "    </tr>\n",
       "    <tr>\n",
       "      <th>2</th>\n",
       "      <td>35380_23000126</td>\n",
       "      <td>19</td>\n",
       "      <td>NaN</td>\n",
       "      <td>NaN</td>\n",
       "      <td>NaN</td>\n",
       "      <td>j350~j352</td>\n",
       "      <td>5g603&amp;B&amp;20230118~5g6071&amp;Z&amp;20230118</td>\n",
       "      <td>d30b</td>\n",
       "      <td>0.8431</td>\n",
       "      <td>DRG</td>\n",
       "      <td>j350</td>\n",
       "      <td>NaN</td>\n",
       "      <td>2023-01</td>\n",
       "      <td>2023-01</td>\n",
       "      <td>2023-01-17</td>\n",
       "      <td>2023-01-21</td>\n",
       "      <td>3305786</td>\n",
       "      <td>2003-10-07</td>\n",
       "      <td>529249</td>\n",
       "      <td>24</td>\n",
       "      <td>N61173014101</td>\n",
       "      <td>N6117301</td>\n",
       "      <td>N6117301</td>\n",
       "      <td>N61173</td>\n",
       "      <td>23000126</td>\n",
       "      <td>S05-34~S05-29</td>\n",
       "    </tr>\n",
       "    <tr>\n",
       "      <th>3</th>\n",
       "      <td>35380_23000083</td>\n",
       "      <td>18</td>\n",
       "      <td>NaN</td>\n",
       "      <td>NaN</td>\n",
       "      <td>NaN</td>\n",
       "      <td>j350</td>\n",
       "      <td>5g603&amp;B&amp;20230113</td>\n",
       "      <td>d30b</td>\n",
       "      <td>0.8431</td>\n",
       "      <td>DRG</td>\n",
       "      <td>j350</td>\n",
       "      <td>NaN</td>\n",
       "      <td>2023-01</td>\n",
       "      <td>2023-01</td>\n",
       "      <td>2023-01-12</td>\n",
       "      <td>2023-01-17</td>\n",
       "      <td>3305359</td>\n",
       "      <td>2004-08-15</td>\n",
       "      <td>520128</td>\n",
       "      <td>24</td>\n",
       "      <td>N61173014101</td>\n",
       "      <td>N6117301</td>\n",
       "      <td>N6117301</td>\n",
       "      <td>N61173</td>\n",
       "      <td>23000083</td>\n",
       "      <td>S53-33~S63-40</td>\n",
       "    </tr>\n",
       "    <tr>\n",
       "      <th>4</th>\n",
       "      <td>35380_23000159</td>\n",
       "      <td>18</td>\n",
       "      <td>NaN</td>\n",
       "      <td>NaN</td>\n",
       "      <td>NaN</td>\n",
       "      <td>h912</td>\n",
       "      <td>NaN</td>\n",
       "      <td>d61a</td>\n",
       "      <td>0.7048</td>\n",
       "      <td>DRG</td>\n",
       "      <td>h912</td>\n",
       "      <td>NaN</td>\n",
       "      <td>2023-01</td>\n",
       "      <td>2023-01</td>\n",
       "      <td>2023-01-20</td>\n",
       "      <td>2023-01-26</td>\n",
       "      <td>2852825</td>\n",
       "      <td>2004-08-31</td>\n",
       "      <td>520802</td>\n",
       "      <td>24</td>\n",
       "      <td>N61173014101</td>\n",
       "      <td>N6117301</td>\n",
       "      <td>N6117301</td>\n",
       "      <td>N61173</td>\n",
       "      <td>23000159</td>\n",
       "      <td>S53-29</td>\n",
       "    </tr>\n",
       "  </tbody>\n",
       "</table>\n",
       "</div>"
      ],
      "text/plain": [
       "            id_hp vek_roky vek_dni hmotnost  upv   diagnozy  \\\n",
       "0  35380_23000079       20     NaN      NaN  NaN       j350   \n",
       "1  35380_23000214       19     NaN      NaN  NaN       j350   \n",
       "2  35380_23000126       19     NaN      NaN  NaN  j350~j352   \n",
       "3  35380_23000083       18     NaN      NaN  NaN       j350   \n",
       "4  35380_23000159       18     NaN      NaN  NaN       h912   \n",
       "\n",
       "                               vykony   drg     erv typ_starostlivosti  \\\n",
       "0                    5g603&B&20230113  d30b  0.8431                DRG   \n",
       "1                    5g603&B&20230127  d30b  0.8431                DRG   \n",
       "2  5g603&B&20230118~5g6071&Z&20230118  d30b  0.8431                DRG   \n",
       "3                    5g603&B&20230113  d30b  0.8431                DRG   \n",
       "4                                 NaN  d61a  0.7048                DRG   \n",
       "\n",
       "  diagnozy_z_01 vykony_z_01 obdobie_od obdobie_do    datum_od    datum_do  \\\n",
       "0          j350         NaN    2023-01    2023-01  2023-01-12  2023-01-16   \n",
       "1          j350         NaN    2023-01    2023-01  2023-01-26  2023-01-31   \n",
       "2          j350         NaN    2023-01    2023-01  2023-01-17  2023-01-21   \n",
       "3          j350         NaN    2023-01    2023-01  2023-01-12  2023-01-17   \n",
       "4          h912         NaN    2023-01    2023-01  2023-01-20  2023-01-26   \n",
       "\n",
       "  id_poistenca datum_narodenia kod_pobytu kod_zp        pzs_12 IDENTIFZAR  \\\n",
       "0      5130405      2002-04-25     522279     24  N61173014101   N6117301   \n",
       "1      2778465      2003-08-23     527696     24  N61173014101   N6117301   \n",
       "2      3305786      2003-10-07     529249     24  N61173014101   N6117301   \n",
       "3      3305359      2004-08-15     520128     24  N61173014101   N6117301   \n",
       "4      2852825      2004-08-31     520802     24  N61173014101   N6117301   \n",
       "\n",
       "      pzs_8   pzs_6 id_hp_pzs             ms  \n",
       "0  N6117301  N61173  23000079  S05-34~S05-29  \n",
       "1  N6117301  N61173  23000214  S05-34~S05-29  \n",
       "2  N6117301  N61173  23000126  S05-34~S05-29  \n",
       "3  N6117301  N61173  23000083  S53-33~S63-40  \n",
       "4  N6117301  N61173  23000159         S53-29  "
      ]
     },
     "execution_count": 11,
     "metadata": {},
     "output_type": "execute_result"
    }
   ],
   "source": [
    "all_inpatients.head()"
   ]
  },
  {
   "cell_type": "code",
   "execution_count": 12,
   "metadata": {},
   "outputs": [
    {
     "data": {
      "text/plain": [
       "id_hp                 object\n",
       "vek_roky              object\n",
       "vek_dni               object\n",
       "hmotnost              object\n",
       "upv                   object\n",
       "diagnozy              object\n",
       "vykony                object\n",
       "drg                   object\n",
       "erv                   object\n",
       "typ_starostlivosti    object\n",
       "diagnozy_z_01         object\n",
       "vykony_z_01           object\n",
       "obdobie_od            object\n",
       "obdobie_do            object\n",
       "datum_od              object\n",
       "datum_do              object\n",
       "id_poistenca          object\n",
       "datum_narodenia       object\n",
       "kod_pobytu            object\n",
       "kod_zp                object\n",
       "pzs_12                object\n",
       "IDENTIFZAR            object\n",
       "pzs_8                 object\n",
       "pzs_6                 object\n",
       "id_hp_pzs             object\n",
       "ms                    object\n",
       "dtype: object"
      ]
     },
     "execution_count": 12,
     "metadata": {},
     "output_type": "execute_result"
    }
   ],
   "source": [
    "all_inpatients.dtypes"
   ]
  },
  {
   "cell_type": "code",
   "execution_count": 13,
   "metadata": {},
   "outputs": [
    {
     "data": {
      "text/plain": [
       "(1178065, 26)"
      ]
     },
     "execution_count": 13,
     "metadata": {},
     "output_type": "execute_result"
    }
   ],
   "source": [
    "all_inpatients.shape"
   ]
  },
  {
   "cell_type": "markdown",
   "metadata": {},
   "source": [
    "zmena"
   ]
  }
 ],
 "metadata": {
  "kernelspec": {
   "display_name": "Python 3",
   "language": "python",
   "name": "python3"
  },
  "language_info": {
   "codemirror_mode": {
    "name": "ipython",
    "version": 3
   },
   "file_extension": ".py",
   "mimetype": "text/x-python",
   "name": "python",
   "nbconvert_exporter": "python",
   "pygments_lexer": "ipython3",
   "version": "3.12.4"
  }
 },
 "nbformat": 4,
 "nbformat_minor": 2
}
